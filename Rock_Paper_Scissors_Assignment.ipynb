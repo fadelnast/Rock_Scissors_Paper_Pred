{
  "nbformat": 4,
  "nbformat_minor": 0,
  "metadata": {
    "colab": {
      "name": "Rock_Paper_Scissors_Assignment",
      "provenance": []
    },
    "kernelspec": {
      "name": "python3",
      "display_name": "Python 3"
    },
    "accelerator": "GPU"
  },
  "cells": [
    {
      "cell_type": "code",
      "metadata": {
        "id": "Vf8-ygwubrX9"
      },
      "source": [
        "#importing important libraries\n",
        "import tensorflow as tf\n",
        "from tensorflow.keras.optimizers import RMSprop\n",
        "from tensorflow.keras.preprocessing.image import ImageDataGenerator"
      ],
      "execution_count": null,
      "outputs": []
    },
    {
      "cell_type": "code",
      "metadata": {
        "id": "rf-Uj1eogrcy"
      },
      "source": [
        "print(tf.__version__)"
      ],
      "execution_count": null,
      "outputs": []
    },
    {
      "cell_type": "code",
      "metadata": {
        "id": "PagMRrpM2KNi"
      },
      "source": [
        "from google.colab import drive\n",
        "drive.mount('/content/drive')"
      ],
      "execution_count": null,
      "outputs": []
    },
    {
      "cell_type": "code",
      "metadata": {
        "id": "247ftfq02fIB"
      },
      "source": [
        "!unzip -uq \"/content/drive/My Drive/rockpaperscissors.zip\" -d \"/content/drive/My Drive/rockpaperscissors\""
      ],
      "execution_count": null,
      "outputs": []
    },
    {
      "cell_type": "code",
      "metadata": {
        "id": "uCSRLbKa3S6c",
        "colab": {
          "base_uri": "https://localhost:8080/",
          "height": 34
        },
        "outputId": "1cfa7a97-2889-4cce-deaa-ada57c451f52"
      },
      "source": [
        "import os\n",
        "print(os.listdir(\"/content/drive/My Drive/rockpaperscissors\"))"
      ],
      "execution_count": null,
      "outputs": [
        {
          "output_type": "stream",
          "text": [
            "['rockpaperscissors', '__MACOSX']\n"
          ],
          "name": "stdout"
        }
      ]
    },
    {
      "cell_type": "code",
      "metadata": {
        "id": "ihUMfvrudL01"
      },
      "source": [
        "base_dir = \"/content/drive/My Drive/rockpaperscissors/rockpaperscissors\"\n",
        "rock_dir = os.path.join(base_dir, 'rock')\n",
        "paper_dir = os.path.join(base_dir, 'paper')\n",
        "scissors_dir = os.path.join(base_dir, 'scissors')\n",
        "\n",
        "print('total rock images = ', len(os.listdir(rock_dir)))\n",
        "print('total paper images = ', len(os.listdir(paper_dir)))\n",
        "print('total scissors images = ', len(os.listdir(scissors_dir)))"
      ],
      "execution_count": null,
      "outputs": []
    },
    {
      "cell_type": "code",
      "metadata": {
        "id": "dZ1Ly1AoNIIV",
        "colab": {
          "base_uri": "https://localhost:8080/",
          "height": 34
        },
        "outputId": "bb4a4579-ccff-468c-a8fa-b0e544595d66"
      },
      "source": [
        "try:\n",
        "    os.mkdir(\"/content/drive/My Drive/rockpaperscissors/rockpaperscissors/training\")\n",
        "    os.mkdir(\"/content/drive/My Drive/rockpaperscissors/rockpaperscissors/training/rock\")\n",
        "    os.mkdir(\"/content/drive/My Drive/rockpaperscissors/rockpaperscissors/training/paper\")\n",
        "    os.mkdir(\"/content/drive/My Drive/rockpaperscissors/rockpaperscissors/training/scissors\")\n",
        "\n",
        "    os.mkdir(\"/content/drive/My Drive/rockpaperscissors/rockpaperscissors/validation\")\n",
        "    os.mkdir(\"/content/drive/My Drive/rockpaperscissors/rockpaperscissors/validation/rock\")\n",
        "    os.mkdir(\"/content/drive/My Drive/rockpaperscissors/rockpaperscissors/validation/paper\")\n",
        "    os.mkdir(\"/content/drive/My Drive/rockpaperscissors/rockpaperscissors/validation/scissors\")\n",
        "except OSError:\n",
        "    pass\n",
        "\n",
        "print(os.listdir(\"/content/drive/My Drive/rockpaperscissors/rockpaperscissors\"))"
      ],
      "execution_count": null,
      "outputs": [
        {
          "output_type": "stream",
          "text": [
            "['README_rpc-cv-images.txt', 'paper', 'rock', 'rps-cv-images', 'scissors', 'validation', 'training']\n"
          ],
          "name": "stdout"
        }
      ]
    },
    {
      "cell_type": "code",
      "metadata": {
        "id": "Wzjca1X0KwKW"
      },
      "source": [
        "import random\n",
        "from shutil import copyfile\n",
        "\n",
        "def split_data(SOURCE, TRAINING, VALIDATION, SPLIT_SIZE):\n",
        "\n",
        "    files = SOURCE\n",
        "    training_length = int(len(files) * SPLIT_SIZE)\n",
        "    validation_length = int(len(files) - training_length)\n",
        "    shuffled_set = random.sample(files, len(files))\n",
        "    training_set = shuffled_set[0:training_length]\n",
        "    validation_set = shuffled_set[:validation_length]\n",
        "\n",
        "    for filename in training_set:\n",
        "        this_file = SOURCE + filename\n",
        "        destination = TRAINING + filename\n",
        "        copyfile(this_file, destination)\n",
        "\n",
        "    for filename in validation_set:\n",
        "        this_file = SOURCE + filename\n",
        "        destination = VALIDATION + filename\n",
        "        copyfile(this_file, destination)\n",
        "\n",
        "\n",
        "training_rock_dir = \"/content/drive/My Drive/rockpaperscissors/rockpaperscissors/training/rock\"\n",
        "validation_rock_dir = \"/content/drive/My Drive/rockpaperscissors/rockpaperscissors/validation/rock\"\n",
        "\n",
        "training_paper_dir = \"/content/drive/My Drive/rockpaperscissors/rockpaperscissors/training/paper\"\n",
        "valdiation_paper_dir = \"/content/drive/My Drive/rockpaperscissors/rockpaperscissors/validation/paper\"\n",
        "\n",
        "training_scissors_dir = \"/content/drive/My Drive/rockpaperscissors/rockpaperscissors/training/scissors\"\n",
        "validation_scissors_dir = \"/content/drive/My Drive/rockpaperscissors/rockpaperscissors/validation/scissors\"\n",
        "\n"
      ],
      "execution_count": null,
      "outputs": []
    },
    {
      "cell_type": "code",
      "metadata": {
        "id": "zoeicUSUq-IH",
        "colab": {
          "base_uri": "https://localhost:8080/",
          "height": 357
        },
        "outputId": "215894b6-1383-40ff-a8b1-d52aadbd2d94"
      },
      "source": [
        "SPLIT_SIZE = 0.9\n",
        "split_data(rock_dir, training_rock_dir, validation_rock_dir, SPLIT_SIZE)\n",
        "split_data(paper_dir, training_paper_dir, validation_paper_dir, SPLIT_SIZE)\n",
        "split_data(scissors_dir, training_scissors_dir, validation_scissors_dir, SPLIT_SIZE)"
      ],
      "execution_count": null,
      "outputs": [
        {
          "output_type": "error",
          "ename": "FileNotFoundError",
          "evalue": "ignored",
          "traceback": [
            "\u001b[0;31m---------------------------------------------------------------------------\u001b[0m",
            "\u001b[0;31mFileNotFoundError\u001b[0m                         Traceback (most recent call last)",
            "\u001b[0;32m<ipython-input-70-860ad9850b4d>\u001b[0m in \u001b[0;36m<module>\u001b[0;34m()\u001b[0m\n\u001b[1;32m      1\u001b[0m \u001b[0mSPLIT_SIZE\u001b[0m \u001b[0;34m=\u001b[0m \u001b[0;36m0.9\u001b[0m\u001b[0;34m\u001b[0m\u001b[0;34m\u001b[0m\u001b[0m\n\u001b[0;32m----> 2\u001b[0;31m \u001b[0msplit_data\u001b[0m\u001b[0;34m(\u001b[0m\u001b[0mrock_dir\u001b[0m\u001b[0;34m,\u001b[0m \u001b[0mtraining_rock_dir\u001b[0m\u001b[0;34m,\u001b[0m \u001b[0mvalidation_rock_dir\u001b[0m\u001b[0;34m,\u001b[0m \u001b[0mSPLIT_SIZE\u001b[0m\u001b[0;34m)\u001b[0m\u001b[0;34m\u001b[0m\u001b[0;34m\u001b[0m\u001b[0m\n\u001b[0m\u001b[1;32m      3\u001b[0m \u001b[0msplit_data\u001b[0m\u001b[0;34m(\u001b[0m\u001b[0mpaper_dir\u001b[0m\u001b[0;34m,\u001b[0m \u001b[0mtraining_paper_dir\u001b[0m\u001b[0;34m,\u001b[0m \u001b[0mvalidation_paper_dir\u001b[0m\u001b[0;34m,\u001b[0m \u001b[0mSPLIT_SIZE\u001b[0m\u001b[0;34m)\u001b[0m\u001b[0;34m\u001b[0m\u001b[0;34m\u001b[0m\u001b[0m\n\u001b[1;32m      4\u001b[0m \u001b[0msplit_data\u001b[0m\u001b[0;34m(\u001b[0m\u001b[0mscissors_dir\u001b[0m\u001b[0;34m,\u001b[0m \u001b[0mtraining_scissors_dir\u001b[0m\u001b[0;34m,\u001b[0m \u001b[0mvalidation_scissors_dir\u001b[0m\u001b[0;34m,\u001b[0m \u001b[0mSPLIT_SIZE\u001b[0m\u001b[0;34m)\u001b[0m\u001b[0;34m\u001b[0m\u001b[0;34m\u001b[0m\u001b[0m\n",
            "\u001b[0;32m<ipython-input-69-cacd86e7da84>\u001b[0m in \u001b[0;36msplit_data\u001b[0;34m(SOURCE, TRAINING, VALIDATION, SPLIT_SIZE)\u001b[0m\n\u001b[1;32m     14\u001b[0m         \u001b[0mthis_file\u001b[0m \u001b[0;34m=\u001b[0m \u001b[0mSOURCE\u001b[0m \u001b[0;34m+\u001b[0m \u001b[0mfilename\u001b[0m\u001b[0;34m\u001b[0m\u001b[0;34m\u001b[0m\u001b[0m\n\u001b[1;32m     15\u001b[0m         \u001b[0mdestination\u001b[0m \u001b[0;34m=\u001b[0m \u001b[0mTRAINING\u001b[0m \u001b[0;34m+\u001b[0m \u001b[0mfilename\u001b[0m\u001b[0;34m\u001b[0m\u001b[0;34m\u001b[0m\u001b[0m\n\u001b[0;32m---> 16\u001b[0;31m         \u001b[0mcopyfile\u001b[0m\u001b[0;34m(\u001b[0m\u001b[0mthis_file\u001b[0m\u001b[0;34m,\u001b[0m \u001b[0mdestination\u001b[0m\u001b[0;34m)\u001b[0m\u001b[0;34m\u001b[0m\u001b[0;34m\u001b[0m\u001b[0m\n\u001b[0m\u001b[1;32m     17\u001b[0m \u001b[0;34m\u001b[0m\u001b[0m\n\u001b[1;32m     18\u001b[0m     \u001b[0;32mfor\u001b[0m \u001b[0mfilename\u001b[0m \u001b[0;32min\u001b[0m \u001b[0mvalidation_set\u001b[0m\u001b[0;34m:\u001b[0m\u001b[0;34m\u001b[0m\u001b[0;34m\u001b[0m\u001b[0m\n",
            "\u001b[0;32m/usr/lib/python3.6/shutil.py\u001b[0m in \u001b[0;36mcopyfile\u001b[0;34m(src, dst, follow_symlinks)\u001b[0m\n\u001b[1;32m    118\u001b[0m         \u001b[0mos\u001b[0m\u001b[0;34m.\u001b[0m\u001b[0msymlink\u001b[0m\u001b[0;34m(\u001b[0m\u001b[0mos\u001b[0m\u001b[0;34m.\u001b[0m\u001b[0mreadlink\u001b[0m\u001b[0;34m(\u001b[0m\u001b[0msrc\u001b[0m\u001b[0;34m)\u001b[0m\u001b[0;34m,\u001b[0m \u001b[0mdst\u001b[0m\u001b[0;34m)\u001b[0m\u001b[0;34m\u001b[0m\u001b[0;34m\u001b[0m\u001b[0m\n\u001b[1;32m    119\u001b[0m     \u001b[0;32melse\u001b[0m\u001b[0;34m:\u001b[0m\u001b[0;34m\u001b[0m\u001b[0;34m\u001b[0m\u001b[0m\n\u001b[0;32m--> 120\u001b[0;31m         \u001b[0;32mwith\u001b[0m \u001b[0mopen\u001b[0m\u001b[0;34m(\u001b[0m\u001b[0msrc\u001b[0m\u001b[0;34m,\u001b[0m \u001b[0;34m'rb'\u001b[0m\u001b[0;34m)\u001b[0m \u001b[0;32mas\u001b[0m \u001b[0mfsrc\u001b[0m\u001b[0;34m:\u001b[0m\u001b[0;34m\u001b[0m\u001b[0;34m\u001b[0m\u001b[0m\n\u001b[0m\u001b[1;32m    121\u001b[0m             \u001b[0;32mwith\u001b[0m \u001b[0mopen\u001b[0m\u001b[0;34m(\u001b[0m\u001b[0mdst\u001b[0m\u001b[0;34m,\u001b[0m \u001b[0;34m'wb'\u001b[0m\u001b[0;34m)\u001b[0m \u001b[0;32mas\u001b[0m \u001b[0mfdst\u001b[0m\u001b[0;34m:\u001b[0m\u001b[0;34m\u001b[0m\u001b[0;34m\u001b[0m\u001b[0m\n\u001b[1;32m    122\u001b[0m                 \u001b[0mcopyfileobj\u001b[0m\u001b[0;34m(\u001b[0m\u001b[0mfsrc\u001b[0m\u001b[0;34m,\u001b[0m \u001b[0mfdst\u001b[0m\u001b[0;34m)\u001b[0m\u001b[0;34m\u001b[0m\u001b[0;34m\u001b[0m\u001b[0m\n",
            "\u001b[0;31mFileNotFoundError\u001b[0m: [Errno 2] No such file or directory: '/content/drive/My Drive/rockpaperscissors/rockpaperscissors/rockk'"
          ]
        }
      ]
    }
  ]
}